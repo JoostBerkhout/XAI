{
 "cells": [
  {
   "cell_type": "markdown",
   "metadata": {},
   "source": [
    "# Exporting model from PyTorch to ONNX\n",
    "\n",
    "In this tutorial, we describe how to use ONNX to convert a model defined\n",
    "in PyTorch into the ONNX format.\n",
    "\n",
    "ONNX exporter is part of the [PyTorch repository](http://pytorch.org/docs/master/onnx.html).\n",
    "\n",
    "For working with this tutorial, you will need to install [onnx](https://github.com/onnx/onnx). You can get binary builds of onnx with\n",
    "``conda install -c conda-forge onnx``.\n",
    "\n",
    "``NOTE``: ONNX is under active development so for the best support consider building PyTorch master branch which can be installed by following\n",
    "[the instructions here](https://github.com/pytorch/pytorch#from-source)"
   ]
  },
  {
   "cell_type": "markdown",
   "metadata": {},
   "source": [
    "## Invoking exporter\n",
    "\n",
    "Pretty much it's a matter of replacing `my_model(input)` with `torch.onnx.export(my_model, input, \"my_model.onnx\")` in your script.\n",
    "\n",
    "### Limitations\n",
    "\n",
    "The ONNX exporter is a trace-based exporter, which means that it operates by executing your model once, and exporting the operators which were actually run during this run. This means that if your model is dynamic, e.g., changes behavior depending on input data, the export won’t be accurate.\n",
    "\n",
    "Similarly, a trace is might be valid only for a specific input size (which is one reason why we require explicit inputs on tracing). Most of the operators export size-agnostic versions and should work on different batch sizes or input sizes. We recommend examining the model trace and making sure the traced operators look reasonable."
   ]
  },
  {
   "cell_type": "code",
   "execution_count": 1,
   "metadata": {},
   "outputs": [
    {
     "name": "stdout",
     "output_type": "stream",
     "text": [
      "Help on function export in module torch.onnx:\n",
      "\n",
      "export(*args, **kwargs)\n",
      "\n"
     ]
    }
   ],
   "source": [
    "import torch.onnx\n",
    "help(torch.onnx.export)"
   ]
  },
  {
   "cell_type": "markdown",
   "metadata": {},
   "source": [
    "## Trying it out on AlexNet\n",
    "\n",
    "If you already have your model built, it's just a few lines:"
   ]
  },
  {
   "cell_type": "code",
   "execution_count": 2,
   "metadata": {},
   "outputs": [],
   "source": [
    "from torch.autograd import Variable\n",
    "import torch.onnx\n",
    "import torchvision\n",
    "\n",
    "# Standard ImageNet input - 3 channels, 224x224,\n",
    "# values don't matter as we care about network structure.\n",
    "# But they can also be real inputs.\n",
    "dummy_input = Variable(torch.randn(1, 3, 224, 224))\n",
    "# Obtain your model, it can be also constructed in your script explicitly\n",
    "model = torchvision.models.alexnet(pretrained=True)\n",
    "# Invoke export\n",
    "torch.onnx.export(model, dummy_input, \"alexnet.onnx\")"
   ]
  },
  {
   "cell_type": "markdown",
   "metadata": {},
   "source": [
    "**That's it!**\n",
    "\n",
    "## Inspecting model\n",
    "\n",
    "You can also use ONNX tooling to check the validity of the resulting model or inspect the details"
   ]
  },
  {
   "cell_type": "code",
   "execution_count": 3,
   "metadata": {},
   "outputs": [
    {
     "name": "stdout",
     "output_type": "stream",
     "text": [
      "graph torch-jit-export (\n",
      "  %0[FLOAT, 1x3x224x224]\n",
      ") initializers (\n",
      "  %1[FLOAT, 64x3x11x11]\n",
      "  %2[FLOAT, 64]\n",
      "  %3[FLOAT, 192x64x5x5]\n",
      "  %4[FLOAT, 192]\n",
      "  %5[FLOAT, 384x192x3x3]\n",
      "  %6[FLOAT, 384]\n",
      "  %7[FLOAT, 256x384x3x3]\n",
      "  %8[FLOAT, 256]\n",
      "  %9[FLOAT, 256x256x3x3]\n",
      "  %10[FLOAT, 256]\n",
      "  %11[FLOAT, 4096x9216]\n",
      "  %12[FLOAT, 4096]\n",
      "  %13[FLOAT, 4096x4096]\n",
      "  %14[FLOAT, 4096]\n",
      "  %15[FLOAT, 1000x4096]\n",
      "  %16[FLOAT, 1000]\n",
      ") {\n",
      "  %17 = Conv[dilations = [1, 1], group = 1, kernel_shape = [11, 11], pads = [2, 2, 2, 2], strides = [4, 4]](%0, %1, %2)\n",
      "  %18 = Relu(%17)\n",
      "  %19 = MaxPool[kernel_shape = [3, 3], pads = [0, 0, 0, 0], strides = [2, 2]](%18)\n",
      "  %20 = Conv[dilations = [1, 1], group = 1, kernel_shape = [5, 5], pads = [2, 2, 2, 2], strides = [1, 1]](%19, %3, %4)\n",
      "  %21 = Relu(%20)\n",
      "  %22 = MaxPool[kernel_shape = [3, 3], pads = [0, 0, 0, 0], strides = [2, 2]](%21)\n",
      "  %23 = Conv[dilations = [1, 1], group = 1, kernel_shape = [3, 3], pads = [1, 1, 1, 1], strides = [1, 1]](%22, %5, %6)\n",
      "  %24 = Relu(%23)\n",
      "  %25 = Conv[dilations = [1, 1], group = 1, kernel_shape = [3, 3], pads = [1, 1, 1, 1], strides = [1, 1]](%24, %7, %8)\n",
      "  %26 = Relu(%25)\n",
      "  %27 = Conv[dilations = [1, 1], group = 1, kernel_shape = [3, 3], pads = [1, 1, 1, 1], strides = [1, 1]](%26, %9, %10)\n",
      "  %28 = Relu(%27)\n",
      "  %29 = MaxPool[kernel_shape = [3, 3], pads = [0, 0, 0, 0], strides = [2, 2]](%28)\n",
      "  %30 = Shape(%29)\n",
      "  %31 = Slice[axes = [0], ends = [1], starts = [0]](%30)\n",
      "  %32 = Squeeze[axes = [0]](%31)\n",
      "  %33 = Constant[value = <Scalar Tensor []>]()\n",
      "  %34 = Unsqueeze[axes = [0]](%32)\n",
      "  %35 = Unsqueeze[axes = [0]](%33)\n",
      "  %36 = Concat[axis = 0](%34, %35)\n",
      "  %37 = Reshape(%29, %36)\n",
      "  %38, %39 = Dropout[is_test = 1, ratio = 0.5](%37)\n",
      "  %40 = Gemm[alpha = 1, beta = 1, broadcast = 1, transB = 1](%38, %11, %12)\n",
      "  %41 = Relu(%40)\n",
      "  %42, %43 = Dropout[is_test = 1, ratio = 0.5](%41)\n",
      "  %44 = Gemm[alpha = 1, beta = 1, broadcast = 1, transB = 1](%42, %13, %14)\n",
      "  %45 = Relu(%44)\n",
      "  %46 = Gemm[alpha = 1, beta = 1, broadcast = 1, transB = 1](%45, %15, %16)\n",
      "  return %46\n",
      "}\n"
     ]
    }
   ],
   "source": [
    "import onnx\n",
    "\n",
    "# Load the ONNX model\n",
    "model = onnx.load(\"alexnet.onnx\")\n",
    "\n",
    "# Check that the IR is well formed\n",
    "onnx.checker.check_model(model)\n",
    "\n",
    "# Print a human readable representation of the graph\n",
    "print(onnx.helper.printable_graph(model.graph))"
   ]
  },
  {
   "cell_type": "markdown",
   "metadata": {},
   "source": [
    "Notice that all parameters are listed as graph's inputs but they also have stored values initialized in `model.graph.initializers`."
   ]
  },
  {
   "cell_type": "code",
   "execution_count": 4,
   "metadata": {},
   "outputs": [
    {
     "ename": "SyntaxError",
     "evalue": "invalid syntax (<ipython-input-4-6709c0f6e55b>, line 3)",
     "output_type": "error",
     "traceback": [
      "\u001b[0;36m  File \u001b[0;32m\"<ipython-input-4-6709c0f6e55b>\"\u001b[0;36m, line \u001b[0;32m3\u001b[0m\n\u001b[0;31m    Check [PyTorch documentation on onnx file](http://pytorch.org/docs/master/onnx.html)\u001b[0m\n\u001b[0m                               ^\u001b[0m\n\u001b[0;31mSyntaxError\u001b[0m\u001b[0;31m:\u001b[0m invalid syntax\n"
     ]
    }
   ],
   "source": [
    "## What's next\n",
    "\n",
    "Check [PyTorch documentation on onnx file](http://pytorch.org/docs/master/onnx.html)\n",
    "Take a look at [other tutorials, including importing of ONNX models to other frameworks](https://github.com/onnx/tutorials/tree/master/tutorials)"
   ]
  },
  {
   "cell_type": "code",
   "execution_count": null,
   "metadata": {},
   "outputs": [],
   "source": []
  }
 ],
 "metadata": {
  "kernelspec": {
   "display_name": "Python 3",
   "language": "python",
   "name": "python3"
  },
  "language_info": {
   "codemirror_mode": {
    "name": "ipython",
    "version": 3
   },
   "file_extension": ".py",
   "mimetype": "text/x-python",
   "name": "python",
   "nbconvert_exporter": "python",
   "pygments_lexer": "ipython3",
   "version": "3.6.7"
  }
 },
 "nbformat": 4,
 "nbformat_minor": 2
}
