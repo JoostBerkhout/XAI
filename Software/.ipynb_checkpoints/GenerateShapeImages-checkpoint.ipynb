{
 "cells": [
  {
   "cell_type": "markdown",
   "metadata": {},
   "source": [
    "# Generaiton of test shapes"
   ]
  },
  {
   "cell_type": "markdown",
   "metadata": {},
   "source": [
    "This notebook illustrates the ability of a simple CNN to count simple identical shapes (circles, sqaures or diamonds) from binary images as regression problem. The original code has been taken from https://github.com/rpmcruz/cnn-count and modified accordingly."
   ]
  },
  {
   "cell_type": "markdown",
   "metadata": {},
   "source": [
    "### Generation of images for training and testing"
   ]
  },
  {
   "cell_type": "code",
   "execution_count": 2,
   "metadata": {},
   "outputs": [],
   "source": [
    "# Imports\n",
    "from CNNcount import generate_shape_images as gen\n",
    "from skimage.morphology import disk, diamond, square\n",
    "import numpy as np\n",
    "import matplotlib.pyplot as plt\n",
    "from numpy import savez, load\n",
    "import os.path"
   ]
  },
  {
   "cell_type": "code",
   "execution_count": 3,
   "metadata": {},
   "outputs": [],
   "source": [
    "# define constants\n",
    "NIM = 60000\n",
    "NIMDISPL = 12\n",
    "NMIN, NMAX = 1, 3  # nbr of shapes\n",
    "RMIN, RMAX = 2, 6  # shape radius\n",
    "IMGSIZE = 64\n",
    "OCCL = 0\n",
    "\n",
    "SHAPES = [disk, diamond, square] "
   ]
  },
  {
   "cell_type": "code",
   "execution_count": 4,
   "metadata": {},
   "outputs": [],
   "source": [
    "# filenames for saving the data as NPZ files (NumPy compressed)\n",
    "same_shape_same_radius_fname = \"../Data/CountingShapes/circles_same_radius_60k.npz\"\n",
    "same_shape_diff_radii_fname = \"../Data/CountingShapes/diamonds_diff_radii_60k.npz\""
   ]
  },
  {
   "cell_type": "code",
   "execution_count": 7,
   "metadata": {},
   "outputs": [
    {
     "name": "stdout",
     "output_type": "stream",
     "text": [
      "The file containing images of the same shape (circle) with same radius already exist!\n",
      "Size of data:  (60000, 64, 64, 1)\n",
      "Size of labels:  (60000,)\n"
     ]
    }
   ],
   "source": [
    "# generate large training set of NIM images with the same type and same radius\n",
    "if os.path.isfile(same_shape_same_radius_fname): # already generated- just load\n",
    "    print (\"The file containing images of the same shape (circle) with same radius already exist!\")\n",
    "    # load from NPZ file for display\n",
    "    data = load(same_shape_same_radius_fname)\n",
    "    images=data['images']\n",
    "    labels=data['labels']\n",
    "    print(\"Size of data: \", np.shape(images))\n",
    "    print(\"Size of labels: \", np.shape(labels))\n",
    "else:\n",
    "    print (\"Generating data...\") # generate data\n",
    "    shape_type_ind = 0 # circles\n",
    "    shape_radius = int((RMIN+RMAX)/2)\n",
    "    X = np.zeros(shape=(NIM,IMGSIZE,IMGSIZE,1), dtype = np.float32)\n",
    "    Y = np.zeros(shape=(NIM), dtype = np.uint8)\n",
    "    for i in range(NIM):\n",
    "        n = int(np.random.randint(NMIN, NMAX+1))\n",
    "        shapes = [(shape_type_ind, shape_radius) for _ in range(n)]\n",
    "        img = gen.generate_image(IMGSIZE, shapes, OCCL)\n",
    "        X[i,:,:,:] = img[np.newaxis, :, :, np.newaxis].astype(np.float32)\n",
    "        Y[i]=n\n",
    "        print(\"The images of the same shape (circle) with same radius have been generated!\");\n",
    "    print(\"Size of data: \", np.shape(X))\n",
    "    print(\"Size of labels: \", np.shape(Y))\n",
    "    print (\"Saving data...\")\n",
    "    # save the generated data as NPZ file\n",
    "    savez(same_shape_same_radius_fname,images=X,labels=Y)\n",
    "    images = X\n",
    "    labels = Y"
   ]
  },
  {
   "cell_type": "code",
   "execution_count": 8,
   "metadata": {},
   "outputs": [
    {
     "data": {
      "image/png": "[encoded data removed]",
      "text/plain": [
       "<Figure size 432x288 with 12 Axes>"
      ]
     },
     "metadata": {},
     "output_type": "display_data"
    }
   ],
   "source": [
    "# plot random 12 of the generated NIM images\n",
    "j=0\n",
    "for _ in range(NIMDISPL):\n",
    "    ind=int(np.random.randint(1,NIM))\n",
    "    img=images[ind,:,:]\n",
    "    img=np.reshape(img,(64,64))\n",
    "    label=labels[ind]\n",
    "    j = j+1\n",
    "    plt.subplot(3, 4, j)\n",
    "    plt.imshow(img,cmap='binary')\n",
    "    plt.xticks([])\n",
    "    plt.yticks([])\n",
    "   # plt.title('#%d' %(ind))\n",
    "    plt.title('n=%d' %(label))\n",
    "   \n",
    "\n",
    "plt.show()"
   ]
  },
  {
   "cell_type": "code",
   "execution_count": null,
   "metadata": {},
   "outputs": [],
   "source": [
    "# generate and display NIMDISPL test images with the same shape and different radii\n",
    "if os.path.isfile(same_shape_diff_radii_fname): # already generated- just load\n",
    "    print (\"The file containing images of the same shape (circle) with different radii already exist!\")\n",
    "    # load from NPZ file for display\n",
    "    data = load(same_shape_diff_radii_fname)\n",
    "    images=data['images']\n",
    "    labels=data['labels']\n",
    "    print(\"Size of data: \", np.shape(images))\n",
    "    print(\"Size of labels: \", np.shape(labels))\n",
    "else:\n",
    "    print (\"Generating data...\") # generate data\n",
    "    shape_type_ind = 1 # diamonds\n",
    "    shape_radius = int((RMIN+RMAX)/2)\n",
    "    X = np.zeros(shape=(NIM,IMGSIZE,IMGSIZE,1), dtype = np.float32)\n",
    "    Y = np.zeros(shape=(NIM), dtype = np.uint8)\n",
    "    for i in range(NIM):\n",
    "        n = int(np.random.randint(NMIN, NMAX+1))\n",
    "        shapes = [(shape_type_ind, shape_radius) for _ in range(n)]\n",
    "        img = gen.generate_image(IMGSIZE, shapes, OCCL)\n",
    "        X[i,:,:,:] = img[np.newaxis, :, :, np.newaxis].astype(np.float32)\n",
    "        Y[i]=n\n",
    "        print(\"The images of the same shape (circle) with same radius have been generated!\");\n",
    "    print(\"Size of data: \", np.shape(X))\n",
    "    print(\"Size of labels: \", np.shape(Y))\n",
    "    print (\"Saving data...\")\n",
    "    # save the generated data as NPZ file\n",
    "    savez(same_shape_diff_radii_fname,images=X,labels=Y)\n",
    "    images = X\n",
    "    labels = Y\n",
    "\n",
    "shape_type_ind = 1\n",
    "shape_radius = int((RMIN+RMAX)/2)\n",
    "\n",
    "for i in range(NIMDISPL):\n",
    "    n = int(np.random.randint(NMIN, NMAX+1))\n",
    "    shapes = [(shape_type_ind, np.random.randint(RMIN, RMAX)) for _ in range(n)]\n",
    "    img = gen.generate_image(IMGSIZE, shapes, OCCL)\n",
    "    \n",
    "  #  X = img[np.newaxis, :, :, np.newaxis].astype(np.float32)\n",
    "    plt.subplot(3, 4, i+1)\n",
    "    plt.imshow(img,cmap='binary')\n",
    "    plt.xticks([])\n",
    "    plt.yticks([])\n",
    "    plt.title('n=%d' %(n))\n",
    "\n",
    "plt.show()"
   ]
  },
  {
   "cell_type": "code",
   "execution_count": null,
   "metadata": {},
   "outputs": [],
   "source": [
    "# generate and display NIMDISPL test images with random type shapes and same radius\n",
    "shape_radius = int((RMIN+RMAX)/2)\n",
    "for i in range(NIMDISPL):\n",
    "    n = int(np.random.randint(NMIN, NMAX+1)) # number of shapes\n",
    "    \n",
    "    shapes = [(np.random.randint(len(SHAPES)), shape_radius) for _ in range(n)]\n",
    "\n",
    "    img = gen.generate_image(IMGSIZE, shapes,OCCL)\n",
    "    plt.subplot(3, 4, i+1)\n",
    "    plt.imshow(img, cmap='binary')\n",
    "    plt.xticks([])\n",
    "    plt.yticks([])\n",
    "    plt.title('n = %d' % n)\n",
    "\n",
    "plt.show()"
   ]
  },
  {
   "cell_type": "code",
   "execution_count": null,
   "metadata": {},
   "outputs": [],
   "source": [
    "# generate and display NIMDISPL test images with random type shapes and random radius\n",
    "for i in range(NIMDISPL):\n",
    "    n = int(np.random.randint(NMIN, NMAX+1)) # number of shapes\n",
    "    \n",
    "    shapes = [(np.random.randint(len(SHAPES)), np.random.randint(RMIN, RMAX)) for _ in range(n)]\n",
    "\n",
    "    img = gen.generate_image(IMGSIZE, shapes,OCCL)\n",
    "    plt.subplot(3, 4, i+1)\n",
    "    plt.imshow(img, cmap='binary')\n",
    "    plt.xticks([])\n",
    "    plt.yticks([])\n",
    "    plt.title('n = %d' % n)\n",
    "\n",
    "plt.show()\n"
   ]
  },
  {
   "cell_type": "code",
   "execution_count": null,
   "metadata": {},
   "outputs": [],
   "source": []
  }
 ],
 "metadata": {
  "kernelspec": {
   "display_name": "Python 3",
   "language": "python",
   "name": "python3"
  },
  "language_info": {
   "codemirror_mode": {
    "name": "ipython",
    "version": 3
   },
   "file_extension": ".py",
   "mimetype": "text/x-python",
   "name": "python",
   "nbconvert_exporter": "python",
   "pygments_lexer": "ipython3",
   "version": "3.6.7"
  }
 },
 "nbformat": 4,
 "nbformat_minor": 2
}
