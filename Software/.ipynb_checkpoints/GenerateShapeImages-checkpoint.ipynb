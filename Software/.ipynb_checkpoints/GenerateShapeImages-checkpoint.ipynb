{
 "cells": [
  {
   "cell_type": "markdown",
   "metadata": {},
   "source": [
    "# Counting shapes"
   ]
  },
  {
   "cell_type": "markdown",
   "metadata": {},
   "source": [
    "This notebook illustrates the ability of a simple CNN to count simple identical shapes (circles, sqaures or diamonds) from binary images as regression problem. The original code has been taken from https://github.com/rpmcruz/cnn-count and modified accordingly."
   ]
  },
  {
   "cell_type": "markdown",
   "metadata": {},
   "source": [
    "### Generation of images for training and testing"
   ]
  },
  {
   "cell_type": "code",
   "execution_count": 1,
   "metadata": {},
   "outputs": [],
   "source": [
    "# Imports\n",
    "from cnn_count import gen\n",
    "from skimage.morphology import disk, diamond, square\n",
    "import numpy as np\n",
    "import matplotlib.pyplot as plt"
   ]
  },
  {
   "cell_type": "code",
   "execution_count": 4,
   "metadata": {},
   "outputs": [],
   "source": [
    "# define constants\n",
    "NMIN, NMAX = 1, 10  # nbr of shapes\n",
    "RMIN, RMAX = 2, 12  # shape radius\n",
    "IMGSIZE = 64\n",
    "OCCL = 10\n",
    "\n",
    "SHAPES = [disk, diamond, square] #gen.my_square]"
   ]
  },
  {
   "cell_type": "code",
   "execution_count": 5,
   "metadata": {},
   "outputs": [
    {
     "data": {
      "image/png": "[encoded data removed]",
      "text/plain": [
       "<Figure size 432x288 with 10 Axes>"
      ]
     },
     "metadata": {},
     "output_type": "display_data"
    }
   ],
   "source": [
    "# generate and display 12 test images with the same type and same radius\n",
    "for i in range(NMAX):\n",
    "    n = int(np.random.randint(1, 10+1))\n",
    "    shapes = [(0, 7) for _ in range(n)]\n",
    "    img = gen.generate_image(IMGSIZE, shapes, OCCL)\n",
    "    \n",
    "    X = img[np.newaxis, :, :, np.newaxis].astype(np.float32)\n",
    "    plt.subplot(3, 4, i+1)\n",
    "    plt.imshow(img,cmap='binary')\n",
    "    plt.xticks([])\n",
    "    plt.yticks([])\n",
    "    plt.title('n=%d' %(n))\n",
    "\n",
    "plt.show()\n"
   ]
  },
  {
   "cell_type": "code",
   "execution_count": 9,
   "metadata": {},
   "outputs": [
    {
     "data": {
      "image/png": "[encoded data removed]",
      "text/plain": [
       "<Figure size 432x288 with 12 Axes>"
      ]
     },
     "metadata": {},
     "output_type": "display_data"
    }
   ],
   "source": [
    "# generate and display 12 test images with random type and radius\n",
    "NMIN, NMAX = 1, 12  # nbr of shapes\n",
    "RMIN, RMAX = 3, 12  # shape radius\n",
    "\n",
    "for i in range(NMAX):\n",
    "    n = int(np.random.randint(NMIN, NMAX+1))\n",
    "    shapes = [(np.random.randint(len(SHAPES)), np.random.randint(RMIN, RMAX))\n",
    "              for i in range(n)]\n",
    "\n",
    "    img = gen.generate_image(IMGSIZE, shapes,OCCL)\n",
    "    plt.subplot(3, 4, i+1)\n",
    "    plt.imshow(img, cmap='binary')\n",
    "    plt.xticks([])\n",
    "    plt.yticks([])\n",
    "    plt.title('n = %d' % n)\n",
    "\n",
    "plt.show()\n"
   ]
  },
  {
   "cell_type": "code",
   "execution_count": null,
   "metadata": {},
   "outputs": [],
   "source": []
  }
 ],
 "metadata": {
  "kernelspec": {
   "display_name": "Python 3",
   "language": "python",
   "name": "python3"
  },
  "language_info": {
   "codemirror_mode": {
    "name": "ipython",
    "version": 3
   },
   "file_extension": ".py",
   "mimetype": "text/x-python",
   "name": "python",
   "nbconvert_exporter": "python",
   "pygments_lexer": "ipython3",
   "version": "3.6.7"
  }
 },
 "nbformat": 4,
 "nbformat_minor": 2
}
