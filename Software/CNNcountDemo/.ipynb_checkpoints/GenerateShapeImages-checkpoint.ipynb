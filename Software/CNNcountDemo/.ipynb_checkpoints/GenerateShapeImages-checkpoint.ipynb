{
 "cells": [
  {
   "cell_type": "markdown",
   "metadata": {},
   "source": [
    "# Generation of binary images containing different type and size of shapes"
   ]
  },
  {
   "cell_type": "markdown",
   "metadata": {},
   "source": [
    "This notebook generates binary images for the Counting simple shapes (circles, squares or diamonds) experiment. (Code from https://github.com/rpmcruz/cnn-count has been used as a starting point and modified accordingly).\n",
    "\n",
    "There are 4 different datasets of binary images for the purposes of this experiment:\n",
    "\n",
    "<b>\n",
    "Dataset1 containing images with circular shapes with the same radius.\n",
    "    \n",
    "Dataset2 containing images with diamond shapes with different radii.\n",
    "\n",
    "Dataset3 containing images with circular, diamond and square shapes with the same size/radius.\n",
    "\n",
    "Dataset4 containing images with circular, diamond and square shapes with different sizes/radii.\n",
    "</b>\n",
    "\n",
    "Please, note that if the generated files are deleted and the notebook ran again, the new dataset will be different that the original as many generation parameters are random (the location of the shapes is always random).\n",
    "\n",
    "The number of shapes per image for all datasets is a random number between 1 and 3. Therefore the classification result is one of the classes '1', '2' or '3, where the class corresponds to the shapes count in the image. Each shape is at a random location and occlusion is not allowed. For the images with different shapes, the type is chosen randomly from circle, diamond and sqaure.\n",
    "\n",
    "The images dimensions are 64x64 and the datasets contain 60k images (lates split in 42k for training, 12k for validaiton and 6k for testing in the other notebooks). Te shape size (or 'radius') is an integer between 2 and 6 pixels. For the shapes with the same size (radius), the average of 4 pixels is used."
   ]
  },
  {
   "cell_type": "markdown",
   "metadata": {},
   "source": [
    "### Settings"
   ]
  },
  {
   "cell_type": "code",
   "execution_count": 1,
   "metadata": {},
   "outputs": [],
   "source": [
    "# Imports\n",
    "from CNNcount import shape_images as si\n",
    "import numpy as np\n",
    "import matplotlib.pyplot as plt\n",
    "from numpy import savez, load\n",
    "import os.path"
   ]
  },
  {
   "cell_type": "code",
   "execution_count": 2,
   "metadata": {},
   "outputs": [],
   "source": [
    "# define constants\n",
    "NIM = 60000\n",
    "NMIN, NMAX = 1, 3  # nbr of shapes\n",
    "RMIN, RMAX = 2, 6  # shape radius\n",
    "IMGSIZE = 64\n",
    "OCCL = 0"
   ]
  },
  {
   "cell_type": "code",
   "execution_count": 3,
   "metadata": {},
   "outputs": [],
   "source": [
    "# filenames for saving the data as NPZ files (NumPy compressed)\n",
    "same_shape_same_radius_fname = \"/home/elena/eStep/XAI/Data/CountingShapes/circles_same_radius_60k.npz\"\n",
    "same_shape_diff_radii_fname = \"/home/elena/eStep/XAI/Data/CountingShapes/diamonds_diff_radii_60k.npz\"\n",
    "diff_shapes_same_radius_fname = \"/home/elena/eStep/XAI/Data/CountingShapes/diff_shapes_same_radius_60k.npz\"\n",
    "diff_shapes_diff_radii_fname = \"/home/elena/eStep/XAI/Data/CountingShapes/diff_shapes_diff_radii_60k.npz\""
   ]
  },
  {
   "cell_type": "markdown",
   "metadata": {},
   "source": [
    "## Generation of binary images with up to 3 of the same shape (circle) and same radius"
   ]
  },
  {
   "cell_type": "code",
   "execution_count": 4,
   "metadata": {},
   "outputs": [
    {
     "name": "stdout",
     "output_type": "stream",
     "text": [
      "Generating data...\n",
      "The images of the same shape (circle) with same radius have been generated!\n",
      "Size of data:  (60000, 64, 64, 1)\n",
      "Size of labels:  (60000,)\n",
      "Saving data...\n"
     ]
    }
   ],
   "source": [
    "# generate large training set of NIM images with the same type and same radius\n",
    "if os.path.isfile(same_shape_same_radius_fname): # already generated- just load\n",
    "    print (\"The file containing images of the same shape (circle) with same radius already exist!\")\n",
    "    # load from NPZ file for display\n",
    "    data = load(same_shape_same_radius_fname)\n",
    "    images=data['images']\n",
    "    labels=data['labels']\n",
    "    print(\"Size of data: \", np.shape(images))\n",
    "    print(\"Size of labels: \", np.shape(labels))\n",
    "else:\n",
    "    print (\"Generating data...\") # generate data\n",
    "    shape_type_ind = 0 # circles\n",
    "    shape_radius = int((RMIN+RMAX)/2)\n",
    "    X = np.zeros(shape=(NIM,IMGSIZE,IMGSIZE,1), dtype = np.float32)\n",
    "    Y = np.zeros(shape=(NIM), dtype = np.uint8)\n",
    "    for i in range(NIM):\n",
    "        n = int(np.random.randint(NMIN, NMAX+1))\n",
    "        shapes = [(shape_type_ind, shape_radius) for _ in range(n)]\n",
    "        img = si.generate_image(IMGSIZE, shapes, OCCL)\n",
    "        X[i,:,:,:] = img[np.newaxis, :, :, np.newaxis].astype(np.float32)\n",
    "        Y[i]=n\n",
    "    print(\"The images of the same shape (circle) with same radius have been generated!\");\n",
    "    print(\"Size of data: \", np.shape(X))\n",
    "    print(\"Size of labels: \", np.shape(Y))\n",
    "    print (\"Saving data...\")\n",
    "    # save the generated data as NPZ file\n",
    "    savez(same_shape_same_radius_fname,images=X,labels=Y)\n",
    "    images = X\n",
    "    labels = Y"
   ]
  },
  {
   "cell_type": "code",
   "execution_count": 5,
   "metadata": {},
   "outputs": [
    {
     "data": {
      "image/png": "[encoded data removed]",
      "text/plain": [
       "<Figure size 432x288 with 12 Axes>"
      ]
     },
     "metadata": {},
     "output_type": "display_data"
    }
   ],
   "source": [
    "# plot random 12 of the generated NIM images\n",
    "si.plot_12images(images, labels)"
   ]
  },
  {
   "cell_type": "markdown",
   "metadata": {},
   "source": [
    "## Generation of binary images with up to 3 of the same shape (diamond) with different radii"
   ]
  },
  {
   "cell_type": "code",
   "execution_count": 6,
   "metadata": {},
   "outputs": [
    {
     "name": "stdout",
     "output_type": "stream",
     "text": [
      "Generating data...\n",
      "The images of the same shape (diamonds) with different radii have been generated!\n",
      "Size of data:  (60000, 64, 64, 1)\n",
      "Size of labels:  (60000,)\n",
      "Saving data...\n"
     ]
    }
   ],
   "source": [
    "# generate NIMD test images with the same shape and different radii\n",
    "if os.path.isfile(same_shape_diff_radii_fname): # already generated- just load\n",
    "    print (\"The file containing images of the same shape (diamonds) with different radii already exist!\")\n",
    "    # load from NPZ file for display\n",
    "    data = load(same_shape_diff_radii_fname)\n",
    "    images=data['images']\n",
    "    labels=data['labels']\n",
    "    print(\"Size of data: \", np.shape(images))\n",
    "    print(\"Size of labels: \", np.shape(labels))\n",
    "else:\n",
    "    print (\"Generating data...\") # generate data\n",
    "    shape_type_ind = 1 # diamonds    \n",
    "    X = np.zeros(shape=(NIM,IMGSIZE,IMGSIZE,1), dtype = np.float32)\n",
    "    Y = np.zeros(shape=(NIM), dtype = np.uint8)\n",
    "    for i in range(NIM):\n",
    "        n = int(np.random.randint(NMIN, NMAX+1))\n",
    "        shapes = [(shape_type_ind, np.random.randint(RMIN, RMAX)) for _ in range(n)]\n",
    "        img = si.generate_image(IMGSIZE, shapes, OCCL)\n",
    "        X[i,:,:,:] = img[np.newaxis, :, :, np.newaxis].astype(np.float32)\n",
    "        Y[i]=n\n",
    "    print(\"The images of the same shape (diamonds) with different radii have been generated!\");\n",
    "    print(\"Size of data: \", np.shape(X))\n",
    "    print(\"Size of labels: \", np.shape(Y))\n",
    "    print (\"Saving data...\")\n",
    "    # save the generated data as NPZ file\n",
    "    savez(same_shape_diff_radii_fname,images=X,labels=Y)\n",
    "    images = X\n",
    "    labels = Y\n"
   ]
  },
  {
   "cell_type": "code",
   "execution_count": 7,
   "metadata": {
    "scrolled": true
   },
   "outputs": [
    {
     "data": {
      "image/png": "[encoded data removed]",
      "text/plain": [
       "<Figure size 432x288 with 12 Axes>"
      ]
     },
     "metadata": {},
     "output_type": "display_data"
    }
   ],
   "source": [
    "# plot random 12 of the generated NIM images\n",
    "si.plot_12images(images, labels)"
   ]
  },
  {
   "cell_type": "markdown",
   "metadata": {},
   "source": [
    "## Generation of binary images with up to 3 different shapes (circle, diamond, square) with the same radius"
   ]
  },
  {
   "cell_type": "code",
   "execution_count": 8,
   "metadata": {},
   "outputs": [
    {
     "name": "stdout",
     "output_type": "stream",
     "text": [
      "The file containing images of the different shapes (circle, diamond, square) with same radius already exist!\n",
      "Size of data:  (60000, 64, 64, 1)\n",
      "Size of labels:  (60000,)\n"
     ]
    }
   ],
   "source": [
    "# generate NIM test images with random type shapes and same radius\n",
    "num_shapes = len(si.SHAPES)\n",
    "if os.path.isfile(diff_shapes_same_radius_fname): # already generated- just load\n",
    "    print (\"The file containing images of the different shapes (circle, diamond, square) with same radius already exist!\")\n",
    "    # load from NPZ file for display\n",
    "    data = load(diff_shapes_same_radius_fname)\n",
    "    images=data['images']\n",
    "    labels=data['labels']\n",
    "    print(\"Size of data: \", np.shape(images))\n",
    "    print(\"Size of labels: \", np.shape(labels))\n",
    "else:\n",
    "    print (\"Generating data...\") # generate data\n",
    "    \n",
    "    shape_radius = int((RMIN+RMAX)/2)\n",
    "    X = np.zeros(shape=(NIM,IMGSIZE,IMGSIZE,1), dtype = np.float32)\n",
    "    Y = np.zeros(shape=(NIM), dtype = np.uint8)\n",
    "    for i in range(NIM):\n",
    "        n = int(np.random.randint(NMIN, NMAX+1))        \n",
    "        shapes = [(np.random.randint(num_shapes), shape_radius) for _ in range(n)]\n",
    "        img = si.generate_image(IMGSIZE, shapes, OCCL)\n",
    "        X[i,:,:,:] = img[np.newaxis, :, :, np.newaxis].astype(np.float32)\n",
    "        Y[i]=n\n",
    "    print(\"The images of different shapes with same radius have been generated!\");\n",
    "    print(\"Size of data: \", np.shape(X))\n",
    "    print(\"Size of labels: \", np.shape(Y))\n",
    "    print (\"Saving data...\")\n",
    "    # save the generated data as NPZ file\n",
    "    savez(diff_shapes_same_radius_fname,images=X,labels=Y)\n",
    "    images = X\n",
    "    labels = Y"
   ]
  },
  {
   "cell_type": "code",
   "execution_count": 9,
   "metadata": {},
   "outputs": [
    {
     "data": {
      "image/png": "[encoded data removed]",
      "text/plain": [
       "<Figure size 432x288 with 12 Axes>"
      ]
     },
     "metadata": {},
     "output_type": "display_data"
    }
   ],
   "source": [
    "# plot random 12 of the generated NIM images\n",
    "si.plot_12images(images, labels)"
   ]
  },
  {
   "cell_type": "markdown",
   "metadata": {},
   "source": [
    "## Generation of binary images with up to 3 different shapes (circle, diamond, square) with different radii"
   ]
  },
  {
   "cell_type": "code",
   "execution_count": 6,
   "metadata": {},
   "outputs": [
    {
     "name": "stdout",
     "output_type": "stream",
     "text": [
      "The file containing images of the different shapes (circle, diamond, square) with different radii already exist!\n",
      "Size of data:  (60000, 64, 64, 1)\n",
      "Size of labels:  (60000,)\n"
     ]
    }
   ],
   "source": [
    "# generate NIMD test images with random type shapes and random radius\n",
    "num_shapes = len(si.SHAPES)\n",
    "if os.path.isfile(diff_shapes_diff_radii_fname): # already generated- just load\n",
    "    print (\"The file containing images of the different shapes (circle, diamond, square) with different radii already exist!\")\n",
    "    # load from NPZ file for display\n",
    "    data = load(diff_shapes_diff_radii_fname)\n",
    "    images=data['images']\n",
    "    labels=data['labels']\n",
    "    print(\"Size of data: \", np.shape(images))\n",
    "    print(\"Size of labels: \", np.shape(labels))\n",
    "else:\n",
    "    print (\"Generating data...\") # generate data    \n",
    "    \n",
    "    X = np.zeros(shape=(NIM,IMGSIZE,IMGSIZE,1), dtype = np.float32)\n",
    "    Y = np.zeros(shape=(NIM), dtype = np.uint8)\n",
    "    for i in range(NIM):\n",
    "        n = int(np.random.randint(NMIN, NMAX+1)) \n",
    "        shapes = [(np.random.randint(num_shapes), np.random.randint(RMIN, RMAX)) for _ in range(n)]\n",
    "        img = si.generate_image(IMGSIZE, shapes, OCCL)\n",
    "        X[i,:,:,:] = img[np.newaxis, :, :, np.newaxis].astype(np.float32)\n",
    "        Y[i]=n\n",
    "    print(\"The images of different shapes with different radii have been generated!\");\n",
    "    print(\"Size of data: \", np.shape(X))\n",
    "    print(\"Size of labels: \", np.shape(Y))\n",
    "    print (\"Saving data...\")\n",
    "    # save the generated data as NPZ file\n",
    "    savez(diff_shapes_diff_radii_fname,images=X,labels=Y)\n",
    "    images = X\n",
    "    labels = Y        \n"
   ]
  },
  {
   "cell_type": "code",
   "execution_count": 7,
   "metadata": {},
   "outputs": [
    {
     "data": {
      "image/png": "[encoded data removed]",
      "text/plain": [
       "<Figure size 432x288 with 12 Axes>"
      ]
     },
     "metadata": {},
     "output_type": "display_data"
    }
   ],
   "source": [
    "# plot random 12 of the generated NIM images\n",
    "si.plot_12images(images, labels)"
   ]
  }
 ],
 "metadata": {
  "kernelspec": {
   "display_name": "Python 3",
   "language": "python",
   "name": "python3"
  },
  "language_info": {
   "codemirror_mode": {
    "name": "ipython",
    "version": 3
   },
   "file_extension": ".py",
   "mimetype": "text/x-python",
   "name": "python",
   "nbconvert_exporter": "python",
   "pygments_lexer": "ipython3",
   "version": "3.6.7"
  }
 },
 "nbformat": 4,
 "nbformat_minor": 2
}
