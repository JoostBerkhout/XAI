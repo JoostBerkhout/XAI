{
 "cells": [
  {
   "cell_type": "markdown",
   "metadata": {},
   "source": [
    "# [Tutorial: Implementing Layer-Wise Relevance Propagation](http://www.heatmapping.org/tutorial/)\n",
    "## Tutorial executed by [Elena Ranguelova, NLeSc](https://www.esciencecenter.nl/profile/dr.-elena-ranguelova) "
   ]
  },
  {
   "cell_type": "markdown",
   "metadata": {},
   "source": [
    "### Prerequisites"
   ]
  },
  {
   "cell_type": "markdown",
   "metadata": {},
   "source": [
    "The Python modules [modules.py](http://www.heatmapping.org/tutorial/modules.py.txt) and [utils.py](http://www.heatmapping.org/tutorial/utils.py.txt) were downloaded. \n",
    "\n",
    "Also the [MNIST dataset](http://yann.lecun.com/exdb/mnist/). Two pre-trained networks for this tutorial were also downloaded: a [fully-connected NN](http://www.heatmapping.org/tutorial/mlp.tar.gz) and a [CNN](http://www.heatmapping.org/tutorial/cnn.tar.gz)."
   ]
  },
  {
   "cell_type": "code",
   "execution_count": 1,
   "metadata": {
    "collapsed": false
   },
   "outputs": [],
   "source": [
    "import numpy, copy\n",
    "import modules as mod\n",
    "import utils as ut\n",
    "%matplotlib inline\n",
    "from IPython.display import Image"
   ]
  },
  {
   "cell_type": "markdown",
   "metadata": {},
   "source": [
    "### Relevant Propagation for Fully-Connected Networks"
   ]
  },
  {
   "cell_type": "markdown",
   "metadata": {},
   "source": [
    "Fully-connected network with 2 hidden layers of sizes 300 and 100 and ReLU activations in the hidden layers."
   ]
  },
  {
   "cell_type": "code",
   "execution_count": 2,
   "metadata": {
    "collapsed": false
   },
   "outputs": [],
   "source": [
    "nn = mod.Network([\n",
    "    mod.Linear('models/mlp/l1'),mod.ReLU(),\n",
    "    mod.Linear('models/mlp/l2'),mod.ReLU(),\n",
    "    mod.Linear('models/mlp/l3'),\n",
    "])"
   ]
  },
  {
   "cell_type": "code",
   "execution_count": 3,
   "metadata": {
    "collapsed": false
   },
   "outputs": [
    {
     "name": "stdout",
     "output_type": "stream",
     "text": [
      "<modules.Network object at 0x7fdf848c29b0>\n"
     ]
    }
   ],
   "source": [
    "print(nn)"
   ]
  },
  {
   "cell_type": "markdown",
   "metadata": {},
   "source": [
    "Extend the `Networks` class from `modules` to have a `relprop` methos."
   ]
  },
  {
   "cell_type": "code",
   "execution_count": 4,
   "metadata": {
    "collapsed": true
   },
   "outputs": [],
   "source": [
    "class Network(mod.Network):\n",
    "    def relprop(self,R):\n",
    "        for l in self.layers[::-1]: R = l.relprop(R)\n",
    "        return R"
   ]
  },
  {
   "cell_type": "markdown",
   "metadata": {
    "collapsed": true
   },
   "source": [
    "The LRP considers a pair of linear and ReLU layers as a single 'unified' layer. Implementaiton-wise this can be achieved as propagating the relevance trhough a ReLU without a change."
   ]
  },
  {
   "cell_type": "code",
   "execution_count": 5,
   "metadata": {
    "collapsed": false
   },
   "outputs": [],
   "source": [
    "class ReLU(mod.ReLU):\n",
    "    def relprop(self,R): return R"
   ]
  },
  {
   "cell_type": "markdown",
   "metadata": {},
   "source": [
    "Implementing the z+ rule"
   ]
  },
  {
   "cell_type": "code",
   "execution_count": 6,
   "metadata": {
    "collapsed": false
   },
   "outputs": [],
   "source": [
    "class NextLinear(mod.Linear):\n",
    "    def relprop(self,R):\n",
    "        V = numpy.maximum(0,self.W)\n",
    "        Z = numpy.dot(self.X,V)+1e-9; \n",
    "        S = R/Z;\n",
    "        C = numpy.dot(S,V.T);         \n",
    "        R = self.X*C;\n",
    "        return R"
   ]
  },
  {
   "cell_type": "markdown",
   "metadata": {},
   "source": [
    "Implementing the zB rule (with input activations the raw pixels?)"
   ]
  },
  {
   "cell_type": "code",
   "execution_count": 7,
   "metadata": {
    "collapsed": false
   },
   "outputs": [],
   "source": [
    "class FirstLinear(mod.Linear):\n",
    "    def relprop(self,R):\n",
    "        W,V,U = self.W,numpy.maximum(0,self.W),numpy.minimum(0,self.W)\n",
    "        X,L,H = self.X,self.X*0+utils.lowest,self.X*0+utils.highest\n",
    "\n",
    "        Z = numpy.dot(X,W)-numpy.dot(L,V)-numpy.dot(H,U)+1e-9; S = R/Z\n",
    "        R = X*numpy.dot(S,W.T)-L*numpy.dot(S,V.T)-H*numpy.dot(S,U.T)\n",
    "        return R"
   ]
  },
  {
   "cell_type": "markdown",
   "metadata": {},
   "source": [
    "### Application to MNIST data"
   ]
  },
  {
   "cell_type": "markdown",
   "metadata": {},
   "source": [
    "Load MNIST data"
   ]
  },
  {
   "cell_type": "code",
   "execution_count": 8,
   "metadata": {
    "collapsed": false
   },
   "outputs": [
    {
     "data": {
      "image/png": "[encoded data removed]",
      "text/plain": [
       "<IPython.core.display.Image object>"
      ]
     },
     "execution_count": 8,
     "metadata": {},
     "output_type": "execute_result"
    }
   ],
   "source": [
    "data_path ='/home/elena/eStep/XAI/Data/MNIST'\n",
    "# NOTE! There is a mistake in the module.py: filenames are with '.', not with '-' in the middle!\n",
    "# ['t10k-images.idx3-ubyte', 't10k-labels.idx1-ubyte', 'train-images.idx3-ubyte', 'train-labels.idx1-ubyte']\n",
    "X,T = ut.getMNISTsample(N=12,path=data_path,seed=1234)\n",
    "fname = 'data.png'\n",
    "ut.visualize(X,ut.graymap,fname)\n",
    "Image(filename = fname)"
   ]
  },
  {
   "cell_type": "markdown",
   "metadata": {},
   "source": [
    "Sensitivity analysis"
   ]
  },
  {
   "cell_type": "code",
   "execution_count": 9,
   "metadata": {
    "collapsed": false
   },
   "outputs": [
    {
     "data": {
      "image/png": "[encoded data removed]",
      "text/plain": [
       "<IPython.core.display.Image object>"
      ]
     },
     "execution_count": 9,
     "metadata": {},
     "output_type": "execute_result"
    }
   ],
   "source": [
    "Y = nn.forward(X)\n",
    "S = nn.gradprop(T)**2\n",
    "fname = 'mlp-sensitivity.png'\n",
    "ut.visualize(S,ut.heatmap,fname)\n",
    "Image(filename = fname)"
   ]
  },
  {
   "cell_type": "raw",
   "metadata": {
    "collapsed": true
   },
   "source": [
    "Relevance propagation"
   ]
  },
  {
   "cell_type": "code",
   "execution_count": null,
   "metadata": {
    "collapsed": true
   },
   "outputs": [],
   "source": []
  }
 ],
 "metadata": {
  "kernelspec": {
   "display_name": "Python 3",
   "language": "python",
   "name": "python3"
  },
  "language_info": {
   "codemirror_mode": {
    "name": "ipython",
    "version": 3
   },
   "file_extension": ".py",
   "mimetype": "text/x-python",
   "name": "python",
   "nbconvert_exporter": "python",
   "pygments_lexer": "ipython3",
   "version": "3.6.0"
  }
 },
 "nbformat": 4,
 "nbformat_minor": 2
}
