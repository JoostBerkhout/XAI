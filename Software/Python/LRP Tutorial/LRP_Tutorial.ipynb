{
 "cells": [
  {
   "cell_type": "markdown",
   "metadata": {},
   "source": [
    "# [Tutorial: Implementing Layer-Wise Relevance Propagation](http://www.heatmapping.org/tutorial/)\n",
    "## Tutorial executed by [Elena Ranguelova, NLeSc](https://www.esciencecenter.nl/profile/dr.-elena-ranguelova) "
   ]
  },
  {
   "cell_type": "markdown",
   "metadata": {},
   "source": [
    "### Prerequisites"
   ]
  },
  {
   "cell_type": "markdown",
   "metadata": {},
   "source": [
    "The Python modules [modules.py](http://www.heatmapping.org/tutorial/modules.py.txt) and [utils.py](http://www.heatmapping.org/tutorial/utils.py.txt) were downloaded. Some bugs were fixed (see below) and \n",
    "modifications made to run under Python 3.\n",
    "\n",
    "Also the [MNIST dataset](http://yann.lecun.com/exdb/mnist/). Two pre-trained networks for this tutorial were also downloaded: a [fully-connected NN](http://www.heatmapping.org/tutorial/mlp.tar.gz) and a [CNN](http://www.heatmapping.org/tutorial/cnn.tar.gz)."
   ]
  },
  {
   "cell_type": "code",
   "execution_count": 17,
   "metadata": {
    "collapsed": false
   },
   "outputs": [],
   "source": [
    "import numpy, copy\n",
    "import modules as mod\n",
    "import utils as ut\n",
    "%matplotlib inline\n",
    "from IPython.display import Image"
   ]
  },
  {
   "cell_type": "markdown",
   "metadata": {},
   "source": [
    "## Relevant Propagation for Fully-Connected Networks"
   ]
  },
  {
   "cell_type": "markdown",
   "metadata": {},
   "source": [
    "Fully-connected network with 2 hidden layers of sizes 300 and 100 and ReLU activations in the hidden layers."
   ]
  },
  {
   "cell_type": "code",
   "execution_count": 18,
   "metadata": {
    "collapsed": false
   },
   "outputs": [],
   "source": [
    "nn = mod.Network([\n",
    "    mod.Linear('models/mlp/l1'),mod.ReLU(),\n",
    "    mod.Linear('models/mlp/l2'),mod.ReLU(),\n",
    "    mod.Linear('models/mlp/l3'),\n",
    "])"
   ]
  },
  {
   "cell_type": "code",
   "execution_count": 19,
   "metadata": {
    "collapsed": false
   },
   "outputs": [
    {
     "name": "stdout",
     "output_type": "stream",
     "text": [
      "<modules.Network object at 0x7f446bc6cc88>\n"
     ]
    }
   ],
   "source": [
    "print(nn)"
   ]
  },
  {
   "cell_type": "markdown",
   "metadata": {},
   "source": [
    "### Implementing the propagation procedure\n"
   ]
  },
  {
   "cell_type": "markdown",
   "metadata": {},
   "source": [
    "Extend the `Networks` class from `modules` to have a `relprop` methos."
   ]
  },
  {
   "cell_type": "code",
   "execution_count": 20,
   "metadata": {
    "collapsed": true
   },
   "outputs": [],
   "source": [
    "class Network(mod.Network):\n",
    "    def relprop(self,R):\n",
    "        for l in self.layers[::-1]: R = l.relprop(R)\n",
    "        return R"
   ]
  },
  {
   "cell_type": "markdown",
   "metadata": {
    "collapsed": true
   },
   "source": [
    "The LRP considers a pair of linear and ReLU layers as a single 'unified' layer. Implementaiton-wise this can be achieved as propagating the relevance trhough a ReLU without a change."
   ]
  },
  {
   "cell_type": "code",
   "execution_count": 21,
   "metadata": {
    "collapsed": false
   },
   "outputs": [],
   "source": [
    "class ReLU(mod.ReLU):\n",
    "    def relprop(self,R): return R"
   ]
  },
  {
   "cell_type": "markdown",
   "metadata": {},
   "source": [
    "Implementing the z+ rule"
   ]
  },
  {
   "cell_type": "code",
   "execution_count": 22,
   "metadata": {
    "collapsed": false
   },
   "outputs": [],
   "source": [
    "class NextLinear(mod.Linear):\n",
    "    def relprop(self,R):\n",
    "        V = numpy.maximum(0,self.W)\n",
    "        Z = numpy.dot(self.X,V)+1e-9; \n",
    "        S = R/Z;\n",
    "        C = numpy.dot(S,V.T);         \n",
    "        R = self.X*C;\n",
    "        return R"
   ]
  },
  {
   "cell_type": "markdown",
   "metadata": {},
   "source": [
    "Implementing the zB rule (with input activations the raw pixels?)"
   ]
  },
  {
   "cell_type": "code",
   "execution_count": 23,
   "metadata": {
    "collapsed": false
   },
   "outputs": [],
   "source": [
    "class FirstLinear(mod.Linear):\n",
    "    def relprop(self,R):\n",
    "        W,V,U = self.W,numpy.maximum(0,self.W),numpy.minimum(0,self.W)\n",
    "        X,L,H = self.X,self.X*0+ut.lowest,self.X*0+ut.highest\n",
    "\n",
    "        Z = numpy.dot(X,W)-numpy.dot(L,V)-numpy.dot(H,U)+1e-9; S = R/Z\n",
    "        R = X*numpy.dot(S,W.T)-L*numpy.dot(S,V.T)-H*numpy.dot(S,U.T)\n",
    "        return R"
   ]
  },
  {
   "cell_type": "markdown",
   "metadata": {},
   "source": [
    "### Application to MNIST data"
   ]
  },
  {
   "cell_type": "markdown",
   "metadata": {},
   "source": [
    "Load MNIST data"
   ]
  },
  {
   "cell_type": "code",
   "execution_count": 24,
   "metadata": {
    "collapsed": false
   },
   "outputs": [
    {
     "data": {
      "image/png": "[encoded data removed]",
      "text/plain": [
       "<IPython.core.display.Image object>"
      ]
     },
     "execution_count": 24,
     "metadata": {},
     "output_type": "execute_result"
    }
   ],
   "source": [
    "data_path ='/home/elena/eStep/XAI/Data/MNIST'\n",
    "# NOTE! There is a mistake in the module.py: filenames are with '.', not with '-' in the middle!\n",
    "# ['t10k-images.idx3-ubyte', 't10k-labels.idx1-ubyte', 'train-images.idx3-ubyte', 'train-labels.idx1-ubyte']\n",
    "X,T = ut.getMNISTsample(N=12,path=data_path,seed=1234)\n",
    "fname = 'data.png'\n",
    "ut.visualize(X,ut.graymap,fname)\n",
    "Image(filename = fname)"
   ]
  },
  {
   "cell_type": "markdown",
   "metadata": {},
   "source": [
    "Sensitivity analysis"
   ]
  },
  {
   "cell_type": "code",
   "execution_count": 25,
   "metadata": {
    "collapsed": false
   },
   "outputs": [
    {
     "data": {
      "image/png": "[encoded data removed]",
      "text/plain": [
       "<IPython.core.display.Image object>"
      ]
     },
     "execution_count": 25,
     "metadata": {},
     "output_type": "execute_result"
    }
   ],
   "source": [
    "Y = nn.forward(X)\n",
    "S = nn.gradprop(T)**2\n",
    "fname = 'mlp-sensitivity.png'\n",
    "ut.visualize(S,ut.heatmap,fname)\n",
    "Image(filename = fname)"
   ]
  },
  {
   "cell_type": "markdown",
   "metadata": {
    "collapsed": true
   },
   "source": [
    "Relevance propagation: reinstantiate the NN with the new classes"
   ]
  },
  {
   "cell_type": "code",
   "execution_count": 26,
   "metadata": {
    "collapsed": false
   },
   "outputs": [],
   "source": [
    "nn = Network([\n",
    "    FirstLinear('models/mlp/l1'),ReLU(),\n",
    "    NextLinear('models/mlp/l2'),ReLU(),\n",
    "    NextLinear('models/mlp/l3'),ReLU(),\n",
    "])"
   ]
  },
  {
   "cell_type": "markdown",
   "metadata": {},
   "source": [
    "Run the 3 steps of the global relevance propagation procedure:"
   ]
  },
  {
   "cell_type": "code",
   "execution_count": 27,
   "metadata": {
    "collapsed": false
   },
   "outputs": [
    {
     "data": {
      "image/png": "[encoded data removed]",
      "text/plain": [
       "<IPython.core.display.Image object>"
      ]
     },
     "execution_count": 27,
     "metadata": {},
     "output_type": "execute_result"
    }
   ],
   "source": [
    "Y = nn.forward(X)\n",
    "D = nn.relprop(Y*T)\n",
    "fname = 'mlp-deeptaylor.png'\n",
    "ut.visualize(D,ut.heatmap,fname)\n",
    "Image(filename = fname)"
   ]
  },
  {
   "cell_type": "markdown",
   "metadata": {},
   "source": [
    "## Relevance propagation for CNNs"
   ]
  },
  {
   "cell_type": "markdown",
   "metadata": {},
   "source": [
    "Lenet-5 with RELUs instead of sigmoid nonlinearities. "
   ]
  },
  {
   "cell_type": "code",
   "execution_count": 28,
   "metadata": {
    "collapsed": false
   },
   "outputs": [],
   "source": [
    "cnn = mod.Network([\n",
    "    mod.Convolution('models/cnn/c1-5x5x1x10'),mod.ReLU(),mod.Pooling(),\n",
    "    mod.Convolution('models/cnn/c2-5x5x10x25'),mod.ReLU(),mod.Pooling(),\n",
    "    mod.Convolution('models/cnn/c3-4x4x25x100'),mod.ReLU(),mod.Pooling(),\n",
    "    mod.Convolution('models/cnn/c4-1x1x100x10'),\n",
    "])"
   ]
  },
  {
   "cell_type": "markdown",
   "metadata": {},
   "source": [
    "### Implementing propagation rules for convolution and pooling"
   ]
  },
  {
   "cell_type": "markdown",
   "metadata": {},
   "source": [
    "Convolutuion layer. Compare to the Linear layer of a fully connected network above."
   ]
  },
  {
   "cell_type": "code",
   "execution_count": 29,
   "metadata": {
    "collapsed": false
   },
   "outputs": [],
   "source": [
    "class NextConvolution(mod.Convolution):\n",
    "    def relprop(self,R):\n",
    "        pself = copy.deepcopy(self); pself.B *= 0; pself.W = numpy.maximum(0,pself.W)\n",
    "\n",
    "        Z = pself.forward(self.X)+1e-9; S = R/Z\n",
    "        C = pself.gradprop(S);          R = self.X*C\n",
    "        return R"
   ]
  },
  {
   "cell_type": "markdown",
   "metadata": {},
   "source": [
    "First convolutional layer"
   ]
  },
  {
   "cell_type": "code",
   "execution_count": 30,
   "metadata": {
    "collapsed": true
   },
   "outputs": [],
   "source": [
    "class FirstConvolution(mod.Convolution):\n",
    "    def relprop(self,R):\n",
    "        iself = copy.deepcopy(self); iself.B *= 0\n",
    "        nself = copy.deepcopy(self); nself.B *= 0; nself.W = numpy.minimum(0,nself.W)\n",
    "        pself = copy.deepcopy(self); pself.B *= 0; pself.W = numpy.maximum(0,pself.W)\n",
    "        X,L,H = self.X,self.X*0+ut.lowest,self.X*0+ut.highest\n",
    "\n",
    "        Z = iself.forward(X)-pself.forward(L)-nself.forward(H)+1e-9; S = R/Z\n",
    "        R = X*iself.gradprop(S)-L*pself.gradprop(S)-H*nself.gradprop(S)\n",
    "        return R"
   ]
  },
  {
   "cell_type": "markdown",
   "metadata": {},
   "source": [
    "Pooling layer"
   ]
  },
  {
   "cell_type": "code",
   "execution_count": 31,
   "metadata": {
    "collapsed": true
   },
   "outputs": [],
   "source": [
    "class Pooling(mod.Pooling):\n",
    "    def relprop(self,R):\n",
    "        Z = (self.forward(self.X)+1e-9); S = R / Z\n",
    "        C = self.gradprop(S);            R = self.X*C\n",
    "        return R"
   ]
  },
  {
   "cell_type": "markdown",
   "metadata": {},
   "source": [
    "### Application to MNIST models"
   ]
  },
  {
   "cell_type": "markdown",
   "metadata": {},
   "source": [
    "Reshaping and padding the input models for the CNN to 32x32x1."
   ]
  },
  {
   "cell_type": "code",
   "execution_count": 32,
   "metadata": {
    "collapsed": false
   },
   "outputs": [],
   "source": [
    "X,T = ut.getMNISTsample(N=12,path= data_path,seed=1234)\n",
    "\n",
    "padding = ((0,0),(2,2),(2,2),(0,0))\n",
    "X = numpy.pad(X.reshape([12,28,28,1]),padding,'constant',constant_values=(ut.lowest,))\n",
    "T = T.reshape([12,1,1,10])"
   ]
  },
  {
   "cell_type": "markdown",
   "metadata": {},
   "source": [
    "Sensitivity analysis"
   ]
  },
  {
   "cell_type": "code",
   "execution_count": 33,
   "metadata": {
    "collapsed": false
   },
   "outputs": [
    {
     "data": {
      "image/png": "[encoded data removed]",
      "text/plain": [
       "<IPython.core.display.Image object>"
      ]
     },
     "execution_count": 33,
     "metadata": {},
     "output_type": "execute_result"
    }
   ],
   "source": [
    "Y = cnn.forward(X)\n",
    "S = cnn.gradprop(T)**2\n",
    "fname = 'cnn-sensitivity.png'\n",
    "ut.visualize(S[:,2:-2,2:-2],ut.heatmap,fname)\n",
    "Image(filename = fname)"
   ]
  },
  {
   "cell_type": "markdown",
   "metadata": {
    "collapsed": true
   },
   "source": [
    "Relevance propagation."
   ]
  },
  {
   "cell_type": "code",
   "execution_count": 34,
   "metadata": {
    "collapsed": false
   },
   "outputs": [],
   "source": [
    "cnn = Network([\n",
    "    FirstConvolution('models/cnn/c1-5x5x1x10'),ReLU(),Pooling(),\n",
    "    NextConvolution('models/cnn/c2-5x5x10x25'),ReLU(),Pooling(),\n",
    "    NextConvolution('models/cnn/c3-4x4x25x100'),ReLU(),Pooling(),\n",
    "    NextConvolution('models/cnn/c4-1x1x100x10'),ReLU(),\n",
    "])"
   ]
  },
  {
   "cell_type": "markdown",
   "metadata": {},
   "source": [
    "Explain the predicitons as heatmaps"
   ]
  },
  {
   "cell_type": "code",
   "execution_count": 35,
   "metadata": {
    "collapsed": false
   },
   "outputs": [
    {
     "data": {
      "image/png": "[encoded data removed]",
      "text/plain": [
       "<IPython.core.display.Image object>"
      ]
     },
     "execution_count": 35,
     "metadata": {},
     "output_type": "execute_result"
    }
   ],
   "source": [
    "Y = cnn.forward(X)\n",
    "D = cnn.relprop(Y*T)\n",
    "fname = 'cnn-deeptaylor.png'\n",
    "ut.visualize(D[:,2:-2,2:-2],ut.heatmap,fname)\n",
    "Image(filename=fname)"
   ]
  },
  {
   "cell_type": "markdown",
   "metadata": {},
   "source": [
    "### Increase focus of explanation with LPR- $\\alpha\\beta$ rule"
   ]
  },
  {
   "cell_type": "markdown",
   "metadata": {},
   "source": [
    "Include also negative relevance."
   ]
  },
  {
   "cell_type": "code",
   "execution_count": 36,
   "metadata": {
    "collapsed": true
   },
   "outputs": [],
   "source": [
    "class NextConvolutionAlphaBeta(mod.Convolution,object):\n",
    "\n",
    "    def __init__(self,name,alpha):\n",
    "        super(self.__class__, self).__init__(name)\n",
    "        self.alpha = alpha\n",
    "        self.beta  = alpha-1\n",
    "        \n",
    "    def relprop(self,R):\n",
    "        pself = copy.deepcopy(self); pself.B *= 0; pself.W = numpy.maximum( 1e-9,pself.W)\n",
    "        nself = copy.deepcopy(self); nself.B *= 0; nself.W = numpy.minimum(-1e-9,nself.W)\n",
    "\n",
    "        X = self.X+1e-9\n",
    "        ZA = pself.forward(X); SA =  self.alpha*R/ZA\n",
    "        ZB = nself.forward(X); SB = -self.beta *R/ZB\n",
    "        R = X*(pself.gradprop(SA)+nself.gradprop(SB))\n",
    "        return R"
   ]
  },
  {
   "cell_type": "markdown",
   "metadata": {},
   "source": [
    "Illustrate the rule by building a CNN with $\\alpha=2$"
   ]
  },
  {
   "cell_type": "code",
   "execution_count": 37,
   "metadata": {
    "collapsed": true
   },
   "outputs": [],
   "source": [
    "cnn = Network([\n",
    "    FirstConvolution('models/cnn/c1-5x5x1x10'),ReLU(),Pooling(),\n",
    "    NextConvolutionAlphaBeta('models/cnn/c2-5x5x10x25',2.0),ReLU(),Pooling(),\n",
    "    NextConvolutionAlphaBeta('models/cnn/c3-4x4x25x100',2.0),ReLU(),Pooling(),\n",
    "    NextConvolutionAlphaBeta('models/cnn/c4-1x1x100x10',2.0),ReLU(),\n",
    "])"
   ]
  },
  {
   "cell_type": "markdown",
   "metadata": {},
   "source": [
    "Explanations."
   ]
  },
  {
   "cell_type": "code",
   "execution_count": 38,
   "metadata": {
    "collapsed": false
   },
   "outputs": [
    {
     "data": {
      "image/png": "[encoded data removed]",
      "text/plain": [
       "<IPython.core.display.Image object>"
      ]
     },
     "execution_count": 38,
     "metadata": {},
     "output_type": "execute_result"
    }
   ],
   "source": [
    "Y = cnn.forward(X)\n",
    "D = cnn.relprop(Y*T)\n",
    "fname = 'cnn-alphabeta.png'\n",
    "ut.visualize(D[:,2:-2,2:-2],ut.heatmap,fname)\n",
    "Image(filename=fname)"
   ]
  }
 ],
 "metadata": {
  "kernelspec": {
   "display_name": "Python 3",
   "language": "python",
   "name": "python3"
  },
  "language_info": {
   "codemirror_mode": {
    "name": "ipython",
    "version": 3
   },
   "file_extension": ".py",
   "mimetype": "text/x-python",
   "name": "python",
   "nbconvert_exporter": "python",
   "pygments_lexer": "ipython3",
   "version": "3.6.0"
  }
 },
 "nbformat": 4,
 "nbformat_minor": 2
}
