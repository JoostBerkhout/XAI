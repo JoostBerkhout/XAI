{
 "cells": [
  {
   "cell_type": "markdown",
   "metadata": {},
   "source": [
    "# Understanding the Strategy of a Simple Neural Network\n",
    "\n",
    "## Abstract\n",
    "In this Jupyter notebook an attempt is made to uncover the strategy of a simple neural network that is trained for classifying rotating squares and triangles (of the same size). To that end, a symbolic representative of the neural network is being studied.\n",
    "\n",
    "## About the Study\n",
    "The neural network that is being studied is from `\\models\\nn_Linear_1024_2_Rect_Linear_2_2_SoftMax_(batchsize_10_number_iterations_10000).txt`. For more details about this particular neural network see the corresponding log file. In `understanding_nn.py` we generated and tested a sympy representative for the neural network that is much easier to study. \n",
    "\n",
    "There are two possible shapes: squares and triangles. In the following, we assume that the shape color is given by $x \\in [0, 1]$ and the background is given by color $y \\in [0, 1]$. So if you would give the shape and the colors $x$ and $y$ we can approximately reproduce the picture except for the correct rotation. In `understanding_nn.py` we averaged over the rotation possibilities to obtain a symbolic representation.\n",
    "\n",
    "In the following script the symbolic representations are loaded for the squares and triangles, resp., with colors $x$ and $y$. Afterwards, the representations are printed. Small comment: I did not apply the softmax layer for simplicity. Note that due to the monotonicity of the softmax layer, a relatively large value from the last layer means a relatively large probability (and vice versa)."
   ]
  },
  {
   "cell_type": "code",
   "execution_count": 47,
   "metadata": {},
   "outputs": [],
   "source": [
    "import os\n",
    "import pickle\n",
    "from IPython.display import display\n",
    "from sympy import init_printing\n",
    "init_printing(use_latex=True)\n",
    "\n",
    "# load neural network representation for square and triangle, resp.\n",
    "root = os.path.dirname(os.getcwd())\n",
    "\n",
    "# square (Sq)\n",
    "fileNameNNReprSq = root + r'\\results\\sympyRepresentationOutputLayer3SqNN.pickle'\n",
    "with open(fileNameNNReprSq, 'rb') as handle:\n",
    "    nnReprSq = pickle.load(handle)\n",
    "    \n",
    "# triangle (Tr)\n",
    "fileNameNNReprTr = root + r'\\results\\sympyRepresentationOutputLayer3TrNN.pickle'\n",
    "with open(fileNameNNReprTr, 'rb') as handle:\n",
    "    nnReprTr = pickle.load(handle)  \n"
   ]
  },
  {
   "cell_type": "markdown",
   "metadata": {},
   "source": [
    "## Symbolic Representation in case of a Square"
   ]
  },
  {
   "cell_type": "code",
   "execution_count": 48,
   "metadata": {},
   "outputs": [
    {
     "name": "stdout",
     "output_type": "stream",
     "text": [
      "Output for square (positively correlated with probability):\n"
     ]
    },
    {
     "data": {
      "image/png": "[encoded data removed]",
      "text/latex": [
       "$$3.0 \\max\\left(0, - 9.0 x + 9.0 y + 0.04\\right) + 4.0 \\max\\left(0, 9.0 x - 9.0 y + 0.04\\right) - 1.0$$"
      ],
      "text/plain": [
       "3.0⋅Max(0, -9.0*x + 9.0*y + 0.04) + 4.0⋅Max(0, 9.0*x - 9.0*y + 0.04) - 1.0"
      ]
     },
     "metadata": {},
     "output_type": "display_data"
    },
    {
     "name": "stdout",
     "output_type": "stream",
     "text": [
      "Output for triangle (positively correlated with probability):\n"
     ]
    },
    {
     "data": {
      "image/png": "[encoded data removed]",
      "text/latex": [
       "$$- 3.0 \\max\\left(0, - 9.0 x + 9.0 y + 0.04\\right) - 2.0 \\max\\left(0, 9.0 x - 9.0 y + 0.04\\right) + 1.0$$"
      ],
      "text/plain": [
       "-3.0⋅Max(0, -9.0*x + 9.0*y + 0.04) - 2.0⋅Max(0, 9.0*x - 9.0*y + 0.04) + 1.0"
      ]
     },
     "metadata": {},
     "output_type": "display_data"
    }
   ],
   "source": [
    "print 'Output for square (positively correlated with probability):'\n",
    "display(nnReprSq[0])\n",
    "print 'Output for triangle (positively correlated with probability):'\n",
    "display(nnReprSq[1])"
   ]
  },
  {
   "cell_type": "markdown",
   "metadata": {},
   "source": [
    "## Symbolic Representation in case of a Triangle"
   ]
  },
  {
   "cell_type": "code",
   "execution_count": 49,
   "metadata": {},
   "outputs": [
    {
     "name": "stdout",
     "output_type": "stream",
     "text": [
      "Output for square (positively correlated with probability):\n"
     ]
    },
    {
     "data": {
      "image/png": "[encoded data removed]",
      "text/latex": [
       "$$3.0 \\max\\left(0, - 0.06 x - 0.0007 y + 0.04\\right) + 4.0 \\max\\left(0, - 0.04 x - 0.3 y + 0.04\\right) - 1.0$$"
      ],
      "text/plain": [
       "3.0⋅Max(0, -0.06*x - 0.0007*y + 0.04) + 4.0⋅Max(0, -0.04*x - 0.3*y + 0.04) - 1\n",
       ".0"
      ]
     },
     "metadata": {},
     "output_type": "display_data"
    },
    {
     "name": "stdout",
     "output_type": "stream",
     "text": [
      "Output for triangle (positively correlated with probability):\n"
     ]
    },
    {
     "data": {
      "image/png": "[encoded data removed]",
      "text/latex": [
       "$$- 3.0 \\max\\left(0, - 0.06 x - 0.0007 y + 0.04\\right) - 2.0 \\max\\left(0, - 0.04 x - 0.3 y + 0.04\\right) + 1.0$$"
      ],
      "text/plain": [
       "-3.0⋅Max(0, -0.06*x - 0.0007*y + 0.04) - 2.0⋅Max(0, -0.04*x - 0.3*y + 0.04) + \n",
       "1.0"
      ]
     },
     "metadata": {},
     "output_type": "display_data"
    }
   ],
   "source": [
    "print 'Output for square (positively correlated with probability):'\n",
    "display(nnReprTr[0])\n",
    "print 'Output for triangle (positively correlated with probability):'\n",
    "display(nnReprTr[1])"
   ]
  },
  {
   "cell_type": "markdown",
   "metadata": {},
   "source": [
    "## Interpreting the Symbolic Representations\n",
    "Load the data for illustration purposes."
   ]
  },
  {
   "cell_type": "code",
   "execution_count": 50,
   "metadata": {},
   "outputs": [
    {
     "ename": "ValueError",
     "evalue": "Attempted relative import in non-package",
     "output_type": "error",
     "traceback": [
      "\u001b[1;31m---------------------------------------------------------------------------\u001b[0m",
      "\u001b[1;31mValueError\u001b[0m                                Traceback (most recent call last)",
      "\u001b[1;32m<ipython-input-50-0e23946fd204>\u001b[0m in \u001b[0;36m<module>\u001b[1;34m()\u001b[0m\n\u001b[0;32m      1\u001b[0m \u001b[1;31m# I do not want to load the data every time, therefore the if statement\u001b[0m\u001b[1;33m\u001b[0m\u001b[1;33m\u001b[0m\u001b[0m\n\u001b[1;32m----> 2\u001b[1;33m \u001b[1;32mfrom\u001b[0m \u001b[1;33m.\u001b[0m\u001b[0mtools\u001b[0m \u001b[1;32mimport\u001b[0m \u001b[0mdata_loader\u001b[0m\u001b[1;33m,\u001b[0m \u001b[0mmodel_io\u001b[0m\u001b[1;33m,\u001b[0m \u001b[0mrender\u001b[0m\u001b[1;33m,\u001b[0m \u001b[0mdata_analysis\u001b[0m\u001b[1;33m\u001b[0m\u001b[0m\n\u001b[0m\u001b[0;32m      3\u001b[0m \u001b[1;32mif\u001b[0m \u001b[1;34m'X'\u001b[0m \u001b[1;32mnot\u001b[0m \u001b[1;32min\u001b[0m \u001b[0mlocals\u001b[0m\u001b[1;33m(\u001b[0m\u001b[1;33m)\u001b[0m\u001b[1;33m:\u001b[0m\u001b[1;33m\u001b[0m\u001b[0m\n\u001b[0;32m      4\u001b[0m     \u001b[1;31m# load data\u001b[0m\u001b[1;33m\u001b[0m\u001b[1;33m\u001b[0m\u001b[0m\n\u001b[0;32m      5\u001b[0m     \u001b[0mX\u001b[0m\u001b[1;33m,\u001b[0m \u001b[0mY\u001b[0m \u001b[1;33m=\u001b[0m \u001b[0mdata_loader\u001b[0m\u001b[1;33m.\u001b[0m\u001b[0mload_data\u001b[0m\u001b[1;33m(\u001b[0m\u001b[1;33m)\u001b[0m\u001b[1;33m\u001b[0m\u001b[0m\n",
      "\u001b[1;31mValueError\u001b[0m: Attempted relative import in non-package"
     ]
    }
   ],
   "source": [
    "# I do not want to load the data every time, therefore the if statement\n",
    "import os,sys,inspect\n",
    "current_dir = os.path.dirname(os.path.abspath(inspect.getfile(inspect.currentframe())))\n",
    "parent_dir = os.path.dirname(current_dir)\n",
    "sys.path.insert(0, parent_dir) \n",
    "import tools\n",
    "if 'X' not in locals():\n",
    "    # load data\n",
    "    X, Y = data_loader.load_data()"
   ]
  },
  {
   "cell_type": "code",
   "execution_count": 56,
   "metadata": {},
   "outputs": [],
   "source": []
  }
 ],
 "metadata": {
  "kernelspec": {
   "display_name": "Python 2",
   "language": "python",
   "name": "python2"
  },
  "language_info": {
   "codemirror_mode": {
    "name": "ipython",
    "version": 2
   },
   "file_extension": ".py",
   "mimetype": "text/x-python",
   "name": "python",
   "nbconvert_exporter": "python",
   "pygments_lexer": "ipython2",
   "version": "2.7.14"
  }
 },
 "nbformat": 4,
 "nbformat_minor": 2
}
