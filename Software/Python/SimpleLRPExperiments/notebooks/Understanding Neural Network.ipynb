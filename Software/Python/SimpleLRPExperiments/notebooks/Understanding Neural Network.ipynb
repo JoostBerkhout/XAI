{
 "cells": [
  {
   "cell_type": "markdown",
   "metadata": {},
   "source": [
    "# Understanding the Strategy of a Simple Neural Network\n",
    "\n",
    "## Abstract\n",
    "In this Jupyter notebook an attempt is made to uncover the strategy of a simple neural network that is trained for classifying rotating squares and triangles (of the same size). To that end, a symbolic representative of the neural network is being studied.\n",
    "\n",
    "## About the Study\n",
    "The neural network that is being studied is from `\\models\\nn_Linear_1024_2_Rect_Linear_2_2_SoftMax_(batchsize_10_number_iterations_10000).txt`. For more details about this particular neural network see the corresponding log file. In `understanding_nn.py` we generated and tested a sympy representative for the neural network that is much easier to study. \n",
    "\n",
    "There are two possible shapes: squares and triangles. In the following, we assume that the shape color is given by $x \\in [0, 1]$ and the background is given by color $y \\in [0, 1]$. So if you would give the shape and the colors $x$ and $y$ we can approximately reproduce the picture except for the correct rotation. In `understanding_nn.py` we averaged over the rotation possibilities to obtain a symbolic representation.\n",
    "\n",
    "In the following script the symbolic representations are loaded for the squares and triangles, resp., with colors $x$ and $y$. Afterwards, the representations are printed. Small comment: I did not apply the softmax layer for simplicity. Note that due to the monotonicity of the softmax layer, a relatively large value from the last layer means a relatively large probability (and vice versa)."
   ]
  },
  {
   "cell_type": "code",
   "execution_count": 109,
   "metadata": {},
   "outputs": [],
   "source": [
    "import os\n",
    "import pickle\n",
    "import numpy as np\n",
    "from IPython.display import display\n",
    "from sympy import init_printing\n",
    "init_printing(use_latex=True)\n",
    "\n",
    "# load neural network representation for square and triangle, resp.\n",
    "root = os.path.dirname(os.getcwd())\n",
    "\n",
    "# square (Sq)\n",
    "fileNameNNReprSq = root + r'\\results\\sympyRepresentationOutputLayer3SqNN.pickle'\n",
    "with open(fileNameNNReprSq, 'rb') as handle:\n",
    "    nnReprSq = pickle.load(handle)\n",
    "    \n",
    "# triangle (Tr)\n",
    "fileNameNNReprTr = root + r'\\results\\sympyRepresentationOutputLayer3TrNN.pickle'\n",
    "with open(fileNameNNReprTr, 'rb') as handle:\n",
    "    nnReprTr = pickle.load(handle)  \n"
   ]
  },
  {
   "cell_type": "markdown",
   "metadata": {},
   "source": [
    "## Symbolic Representation in case of a Square"
   ]
  },
  {
   "cell_type": "code",
   "execution_count": 110,
   "metadata": {},
   "outputs": [
    {
     "name": "stdout",
     "output_type": "stream",
     "text": [
      "Output for square (positively correlated with probability):\n"
     ]
    },
    {
     "data": {
      "image/png": "[encoded data removed]",
      "text/latex": [
       "$$3.0 \\max\\left(0, - 9.0 x + 9.0 y + 0.04\\right) + 4.0 \\max\\left(0, 9.0 x - 9.0 y + 0.04\\right) - 1.0$$"
      ],
      "text/plain": [
       "3.0⋅Max(0, -9.0*x + 9.0*y + 0.04) + 4.0⋅Max(0, 9.0*x - 9.0*y + 0.04) - 1.0"
      ]
     },
     "metadata": {},
     "output_type": "display_data"
    },
    {
     "name": "stdout",
     "output_type": "stream",
     "text": [
      "Output for triangle (positively correlated with probability):\n"
     ]
    },
    {
     "data": {
      "image/png": "[encoded data removed]",
      "text/latex": [
       "$$- 3.0 \\max\\left(0, - 9.0 x + 9.0 y + 0.04\\right) - 2.0 \\max\\left(0, 9.0 x - 9.0 y + 0.04\\right) + 1.0$$"
      ],
      "text/plain": [
       "-3.0⋅Max(0, -9.0*x + 9.0*y + 0.04) - 2.0⋅Max(0, 9.0*x - 9.0*y + 0.04) + 1.0"
      ]
     },
     "metadata": {},
     "output_type": "display_data"
    }
   ],
   "source": [
    "print 'Output for square (positively correlated with probability):'\n",
    "display(nnReprSq[0])\n",
    "print 'Output for triangle (positively correlated with probability):'\n",
    "display(nnReprSq[1])"
   ]
  },
  {
   "cell_type": "markdown",
   "metadata": {},
   "source": [
    "## Symbolic Representation in case of a Triangle"
   ]
  },
  {
   "cell_type": "code",
   "execution_count": 111,
   "metadata": {},
   "outputs": [
    {
     "name": "stdout",
     "output_type": "stream",
     "text": [
      "Output for square (positively correlated with probability):\n"
     ]
    },
    {
     "data": {
      "image/png": "[encoded data removed]",
      "text/latex": [
       "$$3.0 \\max\\left(0, - 0.06 x - 0.0007 y + 0.04\\right) + 4.0 \\max\\left(0, - 0.04 x - 0.3 y + 0.04\\right) - 1.0$$"
      ],
      "text/plain": [
       "3.0⋅Max(0, -0.06*x - 0.0007*y + 0.04) + 4.0⋅Max(0, -0.04*x - 0.3*y + 0.04) - 1\n",
       ".0"
      ]
     },
     "metadata": {},
     "output_type": "display_data"
    },
    {
     "name": "stdout",
     "output_type": "stream",
     "text": [
      "Output for triangle (positively correlated with probability):\n"
     ]
    },
    {
     "data": {
      "image/png": "[encoded data removed]",
      "text/latex": [
       "$$- 3.0 \\max\\left(0, - 0.06 x - 0.0007 y + 0.04\\right) - 2.0 \\max\\left(0, - 0.04 x - 0.3 y + 0.04\\right) + 1.0$$"
      ],
      "text/plain": [
       "-3.0⋅Max(0, -0.06*x - 0.0007*y + 0.04) - 2.0⋅Max(0, -0.04*x - 0.3*y + 0.04) + \n",
       "1.0"
      ]
     },
     "metadata": {},
     "output_type": "display_data"
    }
   ],
   "source": [
    "print 'Output for square (positively correlated with probability):'\n",
    "display(nnReprTr[0])\n",
    "print 'Output for triangle (positively correlated with probability):'\n",
    "display(nnReprTr[1])"
   ]
  },
  {
   "cell_type": "markdown",
   "metadata": {},
   "source": [
    "## Interpreting the Symbolic Representations\n",
    "\n",
    "In the following we will demonstrate the symbolic representation for a test image.\n",
    "\n",
    "### Load the data for illustration purposes."
   ]
  },
  {
   "cell_type": "code",
   "execution_count": 112,
   "metadata": {},
   "outputs": [],
   "source": [
    "# I do not want to load the data every time, therefore the if statement\n",
    "\n",
    "# in order to import a package in parent folder\n",
    "import os,sys,inspect\n",
    "current_dir = os.path.dirname(os.path.abspath(inspect.getfile(inspect.currentframe())))\n",
    "parent_dir = os.path.dirname(current_dir)\n",
    "sys.path.insert(0, parent_dir) \n",
    "import tools, settings\n",
    "from tools import data_loader, data_analysis, model_io\n",
    "\n",
    "if 'X' not in locals():\n",
    "    # load data\n",
    "    X, Y = data_loader.load_data()"
   ]
  },
  {
   "cell_type": "code",
   "execution_count": 113,
   "metadata": {},
   "outputs": [
    {
     "name": "stdout",
     "output_type": "stream",
     "text": [
      "Chosen test image with classification: [0. 1.]\n",
      "Note [1, 0] = square and [0, 1] = triangle.\n"
     ]
    },
    {
     "data": {
      "image/png": "[encoded data removed]",
      "text/plain": [
       "<Figure size 288x288 with 1 Axes>"
      ]
     },
     "metadata": {},
     "output_type": "display_data"
    }
   ],
   "source": [
    "# get a test image (im) with known classification\n",
    "imageIdx = 0\n",
    "im = X['train'][[imageIdx]]\n",
    "classification = Y['train'][[imageIdx]]\n",
    "\n",
    "# determine index of a color in shape and background\n",
    "idxShapeColor = np.ravel_multi_index([16, 16], (32, 32))\n",
    "idxBackgroundColor = 0\n",
    "\n",
    "# report on chosen image\n",
    "print 'Chosen test image with classification: {}'.format(classification[0])\n",
    "print 'Note [1, 0] = square and [0, 1] = triangle.'\n",
    "tools.data_analysis.plot_vector_as_image(im)\n"
   ]
  },
  {
   "cell_type": "markdown",
   "metadata": {},
   "source": [
    "### Evaluate image `im` with the neural network"
   ]
  },
  {
   "cell_type": "code",
   "execution_count": 114,
   "metadata": {},
   "outputs": [
    {
     "name": "stdout",
     "output_type": "stream",
     "text": [
      "loading plain text model from C:/Users/berkhout/Desktop/XAI/Software/Python/SimpleLRPExperiments/models/TrianglesAndSquares/nn_Linear_1024_2_Rect_Linear_2_2_SoftMax_(batchsize_10_number_iterations_10000).txt\n",
      "\n",
      " The probabilities of a square and triangle according to neural network:\n",
      "[[0.07858226 0.92141774]]\n"
     ]
    }
   ],
   "source": [
    "# load trained neural network (nn)\n",
    "nnName = 'nn_Linear_1024_2_Rect_Linear_2_2_SoftMax_(batchsize_10_number_iterations_10000).txt'\n",
    "nn = model_io.read(r'' + parent_dir.replace('\\\\', '/') + '/' + settings.modelPath + nnName)\n",
    "\n",
    "# nn prediction (nnPred)\n",
    "nnPred = nn.forward(im)\n",
    "layerOutcome = [nn.modules[0].forward(im)]\n",
    "for i in range(1, len(nn.modules)):\n",
    "    layerOutcome.append(nn.modules[i].forward(layerOutcome[-1]))\n",
    "print '\\n The probabilities of a square and triangle according to neural network:'\n",
    "print layerOutcome[-1]"
   ]
  },
  {
   "cell_type": "markdown",
   "metadata": {},
   "source": [
    "### Evaluate image `im` with the sympy representation"
   ]
  },
  {
   "cell_type": "code",
   "execution_count": 115,
   "metadata": {},
   "outputs": [
    {
     "name": "stdout",
     "output_type": "stream",
     "text": [
      "The probabilities according to the symbolic representation are:\n",
      "[[0.07866254 0.92133746]]\n"
     ]
    }
   ],
   "source": [
    "# determine index of a color in shape and background\n",
    "idxShapeColor = np.ravel_multi_index([16, 16], (32, 32))\n",
    "idxBackgroundColor = 0\n",
    "\n",
    "# determine color of shape and background\n",
    "xColor = im[0][idxShapeColor]\n",
    "yColor = im[0][idxBackgroundColor]\n",
    "\n",
    "# sympy output: the softmax layer is calculated here\n",
    "sympyOutputSq = Matrix(1,\n",
    "                       2,\n",
    "                       [exp(nnReprSq[0])/(exp(nnReprSq[0]) + exp(nnReprSq[1])),\n",
    "                        exp(nnReprSq[1])/(exp(nnReprSq[0]) + exp(nnReprSq[1]))])\n",
    "sympyOutputTr = Matrix(1,\n",
    "                       2,\n",
    "                       [exp(nnReprTr[0])/(exp(nnReprTr[0]) + exp(nnReprTr[1])),\n",
    "                        exp(nnReprTr[1])/(exp(nnReprTr[0]) + exp(nnReprTr[1]))])\n",
    "\n",
    "if classification[0][0] == 1:\n",
    "    # square\n",
    "    sympyPred = np.array(sympyOutputSq.subs([('x', xColor), ('y', yColor)])).astype(np.float64)\n",
    "else:\n",
    "    # triangle\n",
    "    sympyPred = np.array(sympyOutputTr.subs([('x', xColor), ('y', yColor)])).astype(np.float64)\n",
    "\n",
    "print 'The probabilities according to the symbolic representation are:'\n",
    "print sympyPred"
   ]
  }
 ],
 "metadata": {
  "kernelspec": {
   "display_name": "Python 2",
   "language": "python",
   "name": "python2"
  },
  "language_info": {
   "codemirror_mode": {
    "name": "ipython",
    "version": 2
   },
   "file_extension": ".py",
   "mimetype": "text/x-python",
   "name": "python",
   "nbconvert_exporter": "python",
   "pygments_lexer": "ipython2",
   "version": "2.7.14"
  }
 },
 "nbformat": 4,
 "nbformat_minor": 2
}
